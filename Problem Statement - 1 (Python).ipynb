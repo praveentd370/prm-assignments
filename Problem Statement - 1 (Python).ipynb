{
 "cells": [
  {
   "cell_type": "code",
   "execution_count": 45,
   "id": "2d11d50f",
   "metadata": {
    "scrolled": true
   },
   "outputs": [
    {
     "name": "stdout",
     "output_type": "stream",
     "text": [
      "original list: ['great', 'hello', 'hiyo', 'abc']\n",
      "sorted list: ['great', 'abc', 'hello', 'hiyo']\n"
     ]
    }
   ],
   "source": [
    "n=int(input())\n",
    "a =  ['great','hello','hiyo','abc']\n",
    "print(\"original list:\",a)\n",
    "a.sort(key=lambda x:x[-2])\n",
    "print(\"sorted list:\",a)\n"
   ]
  }
 ],
 "metadata": {
  "kernelspec": {
   "display_name": "Python 3 (ipykernel)",
   "language": "python",
   "name": "python3"
  },
  "language_info": {
   "codemirror_mode": {
    "name": "ipython",
    "version": 3
   },
   "file_extension": ".py",
   "mimetype": "text/x-python",
   "name": "python",
   "nbconvert_exporter": "python",
   "pygments_lexer": "ipython3",
   "version": "3.9.12"
  }
 },
 "nbformat": 4,
 "nbformat_minor": 5
}
